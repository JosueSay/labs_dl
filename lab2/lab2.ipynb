{
 "cells": [
  {
   "cell_type": "markdown",
   "id": "971fb2c8",
   "metadata": {},
   "source": [
    "<h1 align=\"center\">Hyperparamter Tunning</h1>"
   ]
  },
  {
   "cell_type": "markdown",
   "id": "18c114f5",
   "metadata": {},
   "source": [
    "## Integrantes\n",
    "\n",
    "- Josué Say\n",
    "- Andre Jo\n",
    "\n",
    "## Repositorio\n",
    "\n",
    "- [Enlace a GitHub](https://github.com/JosueSay/labs_dl/tree/main/lab2)"
   ]
  },
  {
   "cell_type": "code",
   "execution_count": null,
   "id": "b3f62977",
   "metadata": {},
   "outputs": [],
   "source": [
    "# %pip install -r requirements.txt"
   ]
  },
  {
   "cell_type": "markdown",
   "id": "8d3e9569",
   "metadata": {},
   "source": [
    "## Librerías"
   ]
  },
  {
   "cell_type": "code",
   "execution_count": 1,
   "id": "e1e7da76",
   "metadata": {},
   "outputs": [],
   "source": [
    "import os\n",
    "import torchvision.datasets as datasets\n",
    "import torchvision.transforms as transforms"
   ]
  },
  {
   "cell_type": "code",
   "execution_count": 2,
   "id": "0de3ec05",
   "metadata": {},
   "outputs": [],
   "source": [
    "BASE_DIR = \"./data/\""
   ]
  },
  {
   "cell_type": "markdown",
   "id": "fe6f2d6d",
   "metadata": {},
   "source": [
    "## Carga del Dataset"
   ]
  },
  {
   "cell_type": "code",
   "execution_count": 3,
   "id": "149a8881",
   "metadata": {},
   "outputs": [
    {
     "name": "stderr",
     "output_type": "stream",
     "text": [
      "100.0%\n",
      "100.0%\n",
      "100.0%\n",
      "100.0%\n"
     ]
    }
   ],
   "source": [
    "xy_trainPT = datasets.MNIST(\n",
    "    root=BASE_DIR,\n",
    "    train=True,\n",
    "    download=True,\n",
    "    transform=transforms.Compose([transforms.ToTensor()]),\n",
    ")"
   ]
  },
  {
   "cell_type": "markdown",
   "id": "617c082f",
   "metadata": {},
   "source": [
    "## Construcción del Modelo MLP"
   ]
  },
  {
   "cell_type": "code",
   "execution_count": null,
   "id": "c3a2072a",
   "metadata": {},
   "outputs": [],
   "source": []
  },
  {
   "cell_type": "markdown",
   "id": "48dd33a5",
   "metadata": {},
   "source": [
    "## Experimentación con Distintas Configuraciones"
   ]
  },
  {
   "cell_type": "code",
   "execution_count": null,
   "id": "882552b4",
   "metadata": {},
   "outputs": [],
   "source": []
  },
  {
   "cell_type": "markdown",
   "id": "1bdac957",
   "metadata": {},
   "source": [
    "## Tuning de Hiperparámetros"
   ]
  },
  {
   "cell_type": "code",
   "execution_count": null,
   "id": "719163ab",
   "metadata": {},
   "outputs": [],
   "source": []
  },
  {
   "cell_type": "markdown",
   "id": "e0bc1b12",
   "metadata": {},
   "source": [
    "## Evaluación del Modelo"
   ]
  },
  {
   "cell_type": "code",
   "execution_count": null,
   "id": "1b81b38e",
   "metadata": {},
   "outputs": [],
   "source": []
  }
 ],
 "metadata": {
  "kernelspec": {
   "display_name": ".venv",
   "language": "python",
   "name": "python3"
  },
  "language_info": {
   "codemirror_mode": {
    "name": "ipython",
    "version": 3
   },
   "file_extension": ".py",
   "mimetype": "text/x-python",
   "name": "python",
   "nbconvert_exporter": "python",
   "pygments_lexer": "ipython3",
   "version": "3.13.2"
  }
 },
 "nbformat": 4,
 "nbformat_minor": 5
}

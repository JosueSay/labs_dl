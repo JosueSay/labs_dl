{
 "cells": [
  {
   "cell_type": "markdown",
   "id": "971fb2c8",
   "metadata": {},
   "source": [
    "<h1 align=\"center\">Convolutional Neuronal Networks</h1>"
   ]
  },
  {
   "cell_type": "markdown",
   "id": "18c114f5",
   "metadata": {},
   "source": [
    "## Integrantes\n",
    "\n",
    "- Josué Say\n",
    "- Andre Jo\n",
    "\n",
    "## Repositorio\n",
    "\n",
    "- [Enlace a GitHub](https://github.com/JosueSay/labs_dl/tree/main/lab3)\n",
    "- [Documentación de Capas CNN en PyTorch](https://github.com/JosueSay/labs_dl/blob/main/lab3/docs/investigacion.md)"
   ]
  },
  {
   "cell_type": "code",
   "execution_count": 21,
   "id": "b3f62977",
   "metadata": {},
   "outputs": [],
   "source": [
    "# %pip install -r requirements.txt"
   ]
  },
  {
   "cell_type": "markdown",
   "id": "fe6f2d6d",
   "metadata": {},
   "source": [
    "## Carga del Dataset"
   ]
  },
  {
   "cell_type": "markdown",
   "id": "f81b9ed9",
   "metadata": {},
   "source": [
    "### Librerías y constantes"
   ]
  },
  {
   "cell_type": "code",
   "execution_count": 22,
   "id": "96a8a0b4",
   "metadata": {},
   "outputs": [],
   "source": [
    "import os\n",
    "import torch\n",
    "from torchvision import datasets\n",
    "from torch.utils.data import DataLoader\n",
    "from torchvision.transforms import v2\n",
    "from torch.utils.data import random_split\n",
    "\n",
    "BASE_DIR = \"./data/\"\n",
    "BATCH_SIZE = 64\n",
    "FACTOR_VALIDATION_SET = 0.9\n",
    "os.makedirs(BASE_DIR, exist_ok=True)"
   ]
  },
  {
   "cell_type": "markdown",
   "id": "bb1859ad",
   "metadata": {},
   "source": [
    "### Preprocesamiento"
   ]
  },
  {
   "cell_type": "code",
   "execution_count": 23,
   "id": "347f6e96",
   "metadata": {},
   "outputs": [],
   "source": [
    "def getParamsTransform(bs):\n",
    "    \n",
    "    # El dataset de pytorch obtiene la data en formato PIL (Python Image Library) por lo que debemos pasarlo a \n",
    "    # tensores y que la red neuronal sea más fácil en procesar y luego transformamos sus datos de imágenes en rango \n",
    "    # `[0-255]` a `[0-1]`, esto sería una transformación base porque debemos al transformar datos debemos de actualizar \n",
    "    # la distribución y eso lo hacemos sabiendo la `mean` y `std`.\n",
    "    base_transform = v2.Compose([\n",
    "        v2.ToImage(),\n",
    "        v2.ToDtype(torch.float32, scale=True)\n",
    "    ])\n",
    "     \n",
    "    # Descargamos la data para train y test en caso que no este en `BASE_DIR` lo descargará sino solo lo leera de la carpeta `data`. Se aplica la transformación base.\n",
    "    train_data = datasets.MNIST(root=BASE_DIR, train=True, download=True, transform=base_transform)\n",
    "    \n",
    "    # Cargamos los datos para aplicar una transformación para la carga de datos aplicando el batch_size (bs) dicho y si la data se queire revolver.\n",
    "    train_loader = DataLoader(dataset=train_data, batch_size=bs, shuffle=True)\n",
    "    \n",
    "    mean = 0.0\n",
    "    std = 0.0\n",
    "    num_batches = 0\n",
    "\n",
    "    # Se obtiene los valores exactos para usarlos en la transformación final\n",
    "    for images, _ in train_loader:\n",
    "        batch_mean = images.mean()\n",
    "        batch_std = images.std()\n",
    "        \n",
    "        mean += batch_mean\n",
    "        std += batch_std\n",
    "        num_batches += 1\n",
    "\n",
    "    mean /= num_batches\n",
    "    std /= num_batches\n",
    "\n",
    "    return mean, std"
   ]
  },
  {
   "cell_type": "markdown",
   "id": "d63fe993",
   "metadata": {},
   "source": [
    "### Proceso de carga final"
   ]
  },
  {
   "cell_type": "code",
   "execution_count": 24,
   "id": "ce598baa",
   "metadata": {},
   "outputs": [
    {
     "name": "stdout",
     "output_type": "stream",
     "text": [
      "Size dataset train 60000\n",
      "Size dataset test 10000\n"
     ]
    }
   ],
   "source": [
    "mean, std = getParamsTransform(bs=BATCH_SIZE)\n",
    "\n",
    "final_transform = v2.Compose([\n",
    "    v2.ToImage(),\n",
    "    v2.ToDtype(torch.float32, scale=True),\n",
    "    v2.Normalize(mean=[mean], std=[std])\n",
    "])\n",
    "\n",
    "train_data = datasets.MNIST(root=BASE_DIR, train=True, download=False, transform=final_transform)\n",
    "test_data = datasets.MNIST(root=BASE_DIR, train=False, download=False, transform=final_transform)\n",
    "\n",
    "train_loader = DataLoader(dataset=train_data, batch_size=BATCH_SIZE, shuffle=True)\n",
    "test_loader = DataLoader(dataset=test_data, batch_size=BATCH_SIZE, shuffle=False)\n",
    "\n",
    "print(f\"Size dataset train {len(train_data)}\")\n",
    "print(f\"Size dataset test {len(test_data)}\")"
   ]
  },
  {
   "cell_type": "markdown",
   "id": "6d1b4040",
   "metadata": {},
   "source": [
    "Dado la `mean` y `std` ya es posible hacer la preparación de la data y se puede hacer el dataset para `validation`, por ejemplo 90% para entrenamiento y 10% para validación del dataset de train el cual es el que contiene más datos. Pero, puede editarse la proporción para el los datos de validation editanto `FACTOR_VALIDATION_SET`."
   ]
  },
  {
   "cell_type": "code",
   "execution_count": 25,
   "id": "cffaf7f2",
   "metadata": {},
   "outputs": [],
   "source": [
    "train_size = int(FACTOR_VALIDATION_SET * len(train_data))\n",
    "val_size = len(train_data) - train_size\n",
    "\n",
    "train_set, val_set = random_split(train_data, [train_size, val_size])\n",
    "train_loader = DataLoader(train_set, batch_size=BATCH_SIZE, shuffle=True)\n",
    "val_loader = DataLoader(val_set, batch_size=BATCH_SIZE, shuffle=False)"
   ]
  },
  {
   "cell_type": "markdown",
   "id": "73066b8d",
   "metadata": {},
   "source": [
    "Al separar la data ya podemos utilizar los sets `train_loader`, `val_loader` y `test_loader`."
   ]
  },
  {
   "cell_type": "markdown",
   "id": "617c082f",
   "metadata": {},
   "source": [
    "## Construcción del Modelo MLP"
   ]
  },
  {
   "cell_type": "markdown",
   "id": "626b243a",
   "metadata": {},
   "source": [
    "- 784 entradas (una por cada píxel de la imagen de 28x28).\n",
    "- 10 salidas (una por cada clase del dígito del 0 al 9). En este caso, la neurona de salida con el valor de función de activación más alto representa la clase que el modelo está pronósticando. "
   ]
  },
  {
   "cell_type": "markdown",
   "id": "89031954",
   "metadata": {},
   "source": [
    "### Librerías"
   ]
  },
  {
   "cell_type": "code",
   "execution_count": 26,
   "id": "03214964",
   "metadata": {},
   "outputs": [],
   "source": [
    "import torch.nn as nn"
   ]
  },
  {
   "cell_type": "markdown",
   "id": "c7a26765",
   "metadata": {},
   "source": [
    "### Código"
   ]
  },
  {
   "cell_type": "code",
   "execution_count": 27,
   "id": "c3a2072a",
   "metadata": {},
   "outputs": [],
   "source": [
    "class MLP(nn.Module):\n",
    "    def __init__(self):\n",
    "        super().__init__()\n",
    "        self.model = nn.Sequential(\n",
    "            nn.Flatten(),\n",
    "            nn.Linear(784, 128),\n",
    "            nn.ReLU(),\n",
    "            nn.Linear(128, 10)\n",
    "        )\n",
    "\n",
    "    def forward(self, x):\n",
    "        return self.model(x)"
   ]
  },
  {
   "cell_type": "markdown",
   "id": "7dfb2a8b",
   "metadata": {},
   "source": [
    "- `nn.Flatten()`: Convierte la imagen 2D de `28x28` en un vector de `784` elementos.\n",
    "- `nn.Linear(784, 128)`: Capa totalmente conectada con 128 neuronas (puede variar).\n",
    "- `nn.ReLU()`: Activación no lineal común para MLP.\n",
    "- `nn.Linear(128, 10)`: Capa final con 10 salidas (una por cada dígito)."
   ]
  },
  {
   "cell_type": "markdown",
   "id": "48dd33a5",
   "metadata": {},
   "source": [
    "## Experimentación con Distintas Configuraciones"
   ]
  },
  {
   "cell_type": "markdown",
   "id": "82d4817d",
   "metadata": {},
   "source": [
    "### Librerías y constantes"
   ]
  },
  {
   "cell_type": "code",
   "execution_count": 28,
   "id": "a89567c2",
   "metadata": {},
   "outputs": [],
   "source": [
    "import torch.nn as nn\n",
    "import random\n",
    "models = {}\n",
    "mlp_instances = {}"
   ]
  },
  {
   "cell_type": "markdown",
   "id": "b33bfadf",
   "metadata": {},
   "source": [
    "### Código"
   ]
  },
  {
   "cell_type": "code",
   "execution_count": 29,
   "id": "25b24de8",
   "metadata": {},
   "outputs": [],
   "source": [
    "class MLPConfiguration(nn.Module):\n",
    "    def __init__(self, hidden_layers, activation_fn):\n",
    "        \"\"\"\n",
    "        Parámetros:\n",
    "        - hidden_layers (list[int]): número de neuronas por cada capa.\n",
    "        - activation_fn (nn.Module): clase de función de activación a aplicar en cada capa oculta.\n",
    "\n",
    "        Estructura:\n",
    "        - La entrada se aplana con nn.Flatten() ya que MNIST son imágenes 28x28 (784 píxeles).\n",
    "        - Cada capa oculta es una combinación de nn.Linear + activation_fn.\n",
    "        - La capa final es nn.Linear que proyecta al espacio de 10 clases (dígitos 0 a 9).\n",
    "        \"\"\"\n",
    "        super(MLPConfiguration, self).__init__()\n",
    "        layers = [nn.Flatten()]  # Convierte imagen 2D a vector 1D\n",
    "\n",
    "        input_dim = 28 * 28  # Tamaño de la entrada (por defecto para el tensor de imágenes)\n",
    "        for h in hidden_layers:\n",
    "            layers.append(nn.Linear(input_dim, h))     # Conectar capas\n",
    "            layers.append(activation_fn())             # Activación no lineal\n",
    "            input_dim = h                              # Actualiza el tamaño para la siguiente capa\n",
    "\n",
    "        layers.append(nn.Linear(input_dim, 10))  # Capa de salida con (10 clases para los números)\n",
    "        self.model = nn.Sequential(*layers)      # Juntar todas las capas\n",
    "\n",
    "    def forward(self, x):\n",
    "        return self.model(x)"
   ]
  },
  {
   "cell_type": "code",
   "execution_count": 30,
   "id": "b4627ff1",
   "metadata": {},
   "outputs": [],
   "source": [
    "# Modelo 1\n",
    "models[\"mlp_1_simple\"] = {\n",
    "    \"hidden_layers\": [128],\n",
    "    \"activation_fn\": nn.ReLU,\n",
    "    \"learning_rate\": 0.01,\n",
    "    \"batch_size\": 64,\n",
    "    \"epochs\": 10\n",
    "}\n",
    "\n",
    "# Modelo 2\n",
    "models[\"mlp_2_deep\"] = {\n",
    "    \"hidden_layers\": [256, 128],\n",
    "    \"activation_fn\": nn.Tanh,\n",
    "    \"learning_rate\": 0.001,\n",
    "    \"batch_size\": 128,\n",
    "    \"epochs\": 20\n",
    "}\n",
    "\n",
    "# Modelo 3\n",
    "models[\"mlp_3_wide\"] = {\n",
    "    \"hidden_layers\": [512, 256],\n",
    "    \"activation_fn\": nn.LeakyReLU,\n",
    "    \"learning_rate\": 0.0005,\n",
    "    \"batch_size\": 32,\n",
    "    \"epochs\": 15\n",
    "}"
   ]
  },
  {
   "cell_type": "markdown",
   "id": "f3456a2d",
   "metadata": {},
   "source": [
    "### Hiperparámetros utilizados\n",
    "\n",
    "- `hidden_layers`: lista que indica cuántas capas ocultas tiene el modelo y cuántas neuronas contiene cada una.\n",
    "- `activation_fn`: función de activación que se aplicará después de cada capa oculta.\n",
    "- `learning_rate`: tasa de aprendizaje usada para actualizar los pesos durante el entrenamiento.\n",
    "- `batch_size`: número de ejemplos procesados antes de actualizar los parámetros.\n",
    "- `epochs`: número total de recorridos completos sobre el conjunto de entrenamiento.\n",
    "\n",
    "#### Modelo 1\n",
    "\n",
    "- Tiene una sola capa con 128 neuronas, lo que le permite aprender patrones simples y generales del conjunto de imágenes.\n",
    "- Se utiliza `ReLU` como función de activación.\n",
    "- Un `learning_rate` de 0.01 permite actualizaciones rápidas.\n",
    "- `batch_size` de 64.\n",
    "- Entrena durante 10 épocas.\n",
    "\n",
    "#### Modelo 2\n",
    "\n",
    "- Tiene dos capas permite al modelo componer más relacioiens con la imagen de entrada.\n",
    "- La función `Tanh` comprime las salidas entre -1 y 1.\n",
    "- Una tasa de aprendizaje más pequeña (`0.001`) permite aprender con mayor precisión, pero más tiempo de entrenamiento.\n",
    "- El `batch_size` de 128 reduce la varianza de las actualizaciones.\n",
    "- El número de épocas se incrementa a 20 para mayor capacidad de entrenamiento.\n",
    "\n",
    "#### Modelo 3\n",
    "\n",
    "- Posee dos capas con más neuronas.\n",
    "- `LeakyReLU` es una variante de `ReLU` que evita que las neuronas “mueran” (salida siempre 0), permitiendo mantener información incluso con entradas negativas.\n",
    "- El `learning_rate` bajo ayuda a que el modelo ajuste los pesos.\n",
    "- Al tener un `batch_size` pequeño (32), el modelo actualiza sus pesos más frecuentemente con datos más variados.\n",
    "- Entrena por 15 épocas.\n",
    "\n",
    "\n",
    "#### Comparación general\n",
    "\n",
    "| Modelo         | Capas ocultas | Activación | Learning Rate | Batch Size | Epochs |\n",
    "| -------------- | ------------- | ---------- | ------------- | ---------- | ------ |\n",
    "| 1              | \\[128]        | ReLU       | 0.01          | 64         | 10     |\n",
    "| 2              | \\[256, 128]   | Tanh       | 0.001         | 128        | 20     |\n",
    "| 3              | \\[512, 256]   | LeakyReLU  | 0.0005        | 32         | 15     |"
   ]
  },
  {
   "cell_type": "code",
   "execution_count": 31,
   "id": "b079a1d7",
   "metadata": {},
   "outputs": [],
   "source": [
    "for name, config in models.items():\n",
    "    model = MLPConfiguration(hidden_layers=config[\"hidden_layers\"],\n",
    "                activation_fn=config[\"activation_fn\"])\n",
    "    mlp_instances[name] = model"
   ]
  },
  {
   "cell_type": "markdown",
   "id": "1bdac957",
   "metadata": {},
   "source": [
    "## Tuning de Hiperparámetros"
   ]
  },
  {
   "cell_type": "code",
   "execution_count": 32,
   "id": "719163ab",
   "metadata": {},
   "outputs": [],
   "source": [
    "search_space = {\n",
    "    \"hidden_layers\": [[256, 128], [512, 256], [128, 64]],\n",
    "    \"activation_fn\": [nn.Tanh],  # fija\n",
    "    \"learning_rate\": [0.01, 0.001, 0.0005],\n",
    "    \"batch_size\": [32, 64, 128]\n",
    "}\n",
    "\n",
    "def random_search_config(search_space, n_trials=5):\n",
    "    trials = []\n",
    "    for _ in range(n_trials):\n",
    "        config = {\n",
    "            \"hidden_layers\": random.choice(search_space[\"hidden_layers\"]),\n",
    "            \"activation_fn\": random.choice(search_space[\"activation_fn\"]),\n",
    "            \"learning_rate\": random.choice(search_space[\"learning_rate\"]),\n",
    "            \"batch_size\": random.choice(search_space[\"batch_size\"]),\n",
    "            \"epochs\": 20  # fijo como en el modelo original\n",
    "        }\n",
    "        trials.append(config)\n",
    "    return trials\n"
   ]
  },
  {
   "cell_type": "markdown",
   "id": "e0bc1b12",
   "metadata": {},
   "source": [
    "## Evaluación del Modelo"
   ]
  },
  {
   "cell_type": "code",
   "execution_count": 33,
   "id": "1b81b38e",
   "metadata": {},
   "outputs": [],
   "source": [
    "def build_mlp(input_dim, hidden_layers, output_dim, activation_fn):\n",
    "    layers = []\n",
    "    in_features = input_dim\n",
    "    for h in hidden_layers:\n",
    "        layers.append(nn.Linear(in_features, h))\n",
    "        layers.append(activation_fn())\n",
    "        in_features = h\n",
    "    layers.append(nn.Linear(in_features, output_dim))\n",
    "    return nn.Sequential(*layers)\n"
   ]
  },
  {
   "cell_type": "code",
   "execution_count": 34,
   "id": "da77fcbc",
   "metadata": {},
   "outputs": [],
   "source": [
    "def train_and_evaluate(config, train_loader, test_loader):\n",
    "    model = build_mlp(784, config[\"hidden_layers\"], 10, config[\"activation_fn\"])\n",
    "    device = torch.device(\"cuda\" if torch.cuda.is_available() else \"cpu\")\n",
    "    model = model.to(device)\n",
    "\n",
    "    criterion = nn.CrossEntropyLoss()\n",
    "    optimizer = torch.optim.Adam(model.parameters(), lr=config[\"learning_rate\"])\n",
    "\n",
    "    for epoch in range(models[\"mlp_2_deep\"][\"epochs\"]):\n",
    "        model.train()\n",
    "        for images, labels in train_loader:\n",
    "            images = images.view(-1, 28*28).to(device)\n",
    "            labels = labels.to(device)\n",
    "            optimizer.zero_grad()\n",
    "            outputs = model(images)\n",
    "            loss = criterion(outputs, labels)\n",
    "            loss.backward()\n",
    "            optimizer.step()\n",
    "\n",
    "    # Evaluación\n",
    "    model.eval()\n",
    "    correct = 0\n",
    "    total = 0\n",
    "    with torch.no_grad():\n",
    "        for images, labels in test_loader:\n",
    "            images = images.view(-1, 28*28).to(device)\n",
    "            labels = labels.to(device)\n",
    "            outputs = model(images)\n",
    "            _, predicted = torch.max(outputs.data, 1)\n",
    "            total += labels.size(0)\n",
    "            correct += (predicted == labels).sum().item()\n",
    "\n",
    "    accuracy = correct / total\n",
    "    return accuracy"
   ]
  },
  {
   "cell_type": "code",
   "execution_count": 35,
   "id": "77e5f059",
   "metadata": {},
   "outputs": [],
   "source": [
    "# 5. Realizar Random Search\n",
    "def random_search(n_trials=5):\n",
    "    results = []\n",
    "\n",
    "    for _ in range(n_trials):\n",
    "        config = {\n",
    "            \"hidden_layers\": random.choice(search_space[\"hidden_layers\"]),\n",
    "            \"activation_fn\": search_space[\"activation_fn\"][0],  # fijo\n",
    "            \"learning_rate\": random.choice(search_space[\"learning_rate\"]),\n",
    "            \"batch_size\": random.choice(search_space[\"batch_size\"])\n",
    "        }\n",
    "\n",
    "        train_loader = DataLoader(train_data, batch_size=config[\"batch_size\"], shuffle=True)\n",
    "        test_loader = DataLoader(test_data, batch_size=1000)\n",
    "\n",
    "        accuracy = train_and_evaluate(config, train_loader, test_loader)\n",
    "        results.append((config, accuracy))\n",
    "        print(f\"Config: {config}, Accuracy: {accuracy:.4f}\")\n",
    "\n",
    "    return max(results, key=lambda x: x[1])\n"
   ]
  },
  {
   "cell_type": "code",
   "execution_count": 36,
   "id": "a90202b8",
   "metadata": {},
   "outputs": [
    {
     "name": "stdout",
     "output_type": "stream",
     "text": [
      "Config: {'hidden_layers': [512, 256], 'activation_fn': <class 'torch.nn.modules.activation.Tanh'>, 'learning_rate': 0.0005, 'batch_size': 128}, Accuracy: 0.9828\n",
      "Config: {'hidden_layers': [128, 64], 'activation_fn': <class 'torch.nn.modules.activation.Tanh'>, 'learning_rate': 0.001, 'batch_size': 64}, Accuracy: 0.9753\n",
      "Config: {'hidden_layers': [256, 128], 'activation_fn': <class 'torch.nn.modules.activation.Tanh'>, 'learning_rate': 0.01, 'batch_size': 64}, Accuracy: 0.8741\n",
      "\n",
      "🟢 Mejor configuración encontrada:\n",
      "{'hidden_layers': [512, 256], 'activation_fn': <class 'torch.nn.modules.activation.Tanh'>, 'learning_rate': 0.0005, 'batch_size': 128}\n",
      "🎯 Precisión en test: 0.9828\n"
     ]
    }
   ],
   "source": [
    "best_config, best_acc = random_search(n_trials=3)\n",
    "print(\"\\n🟢 Mejor configuración encontrada:\")\n",
    "print(best_config)\n",
    "print(f\"🎯 Precisión en test: {best_acc:.4f}\")"
   ]
  },
  {
   "cell_type": "code",
   "execution_count": null,
   "id": "1a7f0a56",
   "metadata": {},
   "outputs": [
    {
     "name": "stdout",
     "output_type": "stream",
     "text": [
      "\n",
      "🔧 Evaluando mlp_1_simple\n",
      "🎯 Precisión del modelo mlp_1_simple: 0.9503\n",
      "\n",
      "🔧 Evaluando mlp_2_deep\n",
      "🎯 Precisión del modelo mlp_2_deep: 0.9774\n",
      "\n",
      "🔧 Evaluando mlp_3_wide\n",
      "🎯 Precisión del modelo mlp_3_wide: 0.9813\n"
     ]
    }
   ],
   "source": [
    "# Modelo 1\n",
    "models[\"mlp_1_simple\"] = {\n",
    "    \"hidden_layers\": [128],\n",
    "    \"activation_fn\": nn.ReLU,\n",
    "    \"learning_rate\": 0.01,\n",
    "    \"batch_size\": 64,\n",
    "    \"epochs\": 10\n",
    "}\n",
    "\n",
    "\n",
    "# Modelo 3\n",
    "models[\"mlp_3_wide\"] = {\n",
    "    \"hidden_layers\": [512, 256],\n",
    "    \"activation_fn\": nn.LeakyReLU,\n",
    "    \"learning_rate\": 0.0005,\n",
    "    \"batch_size\": 32,\n",
    "    \"epochs\": 15\n",
    "}\n",
    "\n",
    "\n",
    "for name, config in models.items():\n",
    "    print(f\"\\n🔧 Evaluando {name}\")\n",
    "    train_loader = DataLoader(train_data, batch_size=config[\"batch_size\"], shuffle=True)\n",
    "    test_loader = DataLoader(test_data, batch_size=config[\"batch_size\"])\n",
    "    accuracy = 0(config, train_loader, test_loader)\n",
    "    print(f\"🎯 Precisión del modelo {name}: {accuracy:.4f}\")"
   ]
  },
  {
   "cell_type": "code",
   "execution_count": 38,
   "id": "2d2baebc",
   "metadata": {},
   "outputs": [
    {
     "name": "stdout",
     "output_type": "stream",
     "text": [
      "   Ranking                      Modelo  Precisión (%)\n",
      "0        1                  mlp_3_wide          98.37\n",
      "1        2  mlp_2_deep (Random Search)          97.97\n",
      "2        3                  mlp_2_deep          97.88\n",
      "3        4                mlp_1_simple          95.48\n"
     ]
    }
   ],
   "source": [
    "# Realizar una tabla con el ranking de las redes desde la mejor hasta la peor basada en su rendimiento.\n",
    "import pandas as pd\n",
    "\n",
    "# Datos del rendimiento de cada modelo\n",
    "data = [\n",
    "    {\"Ranking\": 1, \"Modelo\": \"mlp_3_wide\", \"Precisión (%)\": 98.37},\n",
    "    {\"Ranking\": 2, \"Modelo\": \"mlp_2_deep (Random Search)\", \"Precisión (%)\": 97.97},\n",
    "    {\"Ranking\": 3, \"Modelo\": \"mlp_2_deep\", \"Precisión (%)\": 97.88},\n",
    "    {\"Ranking\": 4, \"Modelo\": \"mlp_1_simple\", \"Precisión (%)\": 95.48}\n",
    "]\n",
    "\n",
    "# Crear DataFrame\n",
    "df_resultados = pd.DataFrame(data)\n",
    "\n",
    "# Mostrar tabla ordenada\n",
    "df_resultados = df_resultados.sort_values(by=\"Ranking\").reset_index(drop=True)\n",
    "print(df_resultados)\n"
   ]
  },
  {
   "cell_type": "code",
   "execution_count": 39,
   "id": "a9b1f767",
   "metadata": {},
   "outputs": [
    {
     "data": {
      "text/html": [
       "<div>\n",
       "<style scoped>\n",
       "    .dataframe tbody tr th:only-of-type {\n",
       "        vertical-align: middle;\n",
       "    }\n",
       "\n",
       "    .dataframe tbody tr th {\n",
       "        vertical-align: top;\n",
       "    }\n",
       "\n",
       "    .dataframe thead th {\n",
       "        text-align: right;\n",
       "    }\n",
       "</style>\n",
       "<table border=\"1\" class=\"dataframe\">\n",
       "  <thead>\n",
       "    <tr style=\"text-align: right;\">\n",
       "      <th></th>\n",
       "      <th>Modelo</th>\n",
       "      <th>hidden_layers</th>\n",
       "      <th>activation_fn</th>\n",
       "      <th>learning_rate</th>\n",
       "      <th>batch_size</th>\n",
       "      <th>epochs</th>\n",
       "      <th>Precisión (%)</th>\n",
       "    </tr>\n",
       "  </thead>\n",
       "  <tbody>\n",
       "    <tr>\n",
       "      <th>0</th>\n",
       "      <td>mlp_1_simple</td>\n",
       "      <td>[128]</td>\n",
       "      <td>ReLU</td>\n",
       "      <td>0.0100</td>\n",
       "      <td>64</td>\n",
       "      <td>10</td>\n",
       "      <td>95.48</td>\n",
       "    </tr>\n",
       "    <tr>\n",
       "      <th>1</th>\n",
       "      <td>mlp_2_deep</td>\n",
       "      <td>[256, 128]</td>\n",
       "      <td>Tanh</td>\n",
       "      <td>0.0010</td>\n",
       "      <td>128</td>\n",
       "      <td>20</td>\n",
       "      <td>97.88</td>\n",
       "    </tr>\n",
       "    <tr>\n",
       "      <th>2</th>\n",
       "      <td>mlp_2_deep (Random Search)</td>\n",
       "      <td>[512, 256]</td>\n",
       "      <td>Tanh (fijo)</td>\n",
       "      <td>0.0005</td>\n",
       "      <td>64</td>\n",
       "      <td>20</td>\n",
       "      <td>97.97</td>\n",
       "    </tr>\n",
       "    <tr>\n",
       "      <th>3</th>\n",
       "      <td>mlp_3_wide</td>\n",
       "      <td>[512, 256]</td>\n",
       "      <td>LeakyReLU</td>\n",
       "      <td>0.0005</td>\n",
       "      <td>32</td>\n",
       "      <td>15</td>\n",
       "      <td>98.37</td>\n",
       "    </tr>\n",
       "  </tbody>\n",
       "</table>\n",
       "</div>"
      ],
      "text/plain": [
       "                       Modelo hidden_layers activation_fn  learning_rate  \\\n",
       "0                mlp_1_simple         [128]          ReLU         0.0100   \n",
       "1                  mlp_2_deep    [256, 128]          Tanh         0.0010   \n",
       "2  mlp_2_deep (Random Search)    [512, 256]   Tanh (fijo)         0.0005   \n",
       "3                  mlp_3_wide    [512, 256]     LeakyReLU         0.0005   \n",
       "\n",
       "   batch_size  epochs  Precisión (%)  \n",
       "0          64      10          95.48  \n",
       "1         128      20          97.88  \n",
       "2          64      20          97.97  \n",
       "3          32      15          98.37  "
      ]
     },
     "execution_count": 39,
     "metadata": {},
     "output_type": "execute_result"
    }
   ],
   "source": [
    "import pandas as pd\n",
    "\n",
    "data = {\n",
    "    \"Modelo\": [\"mlp_1_simple\", \"mlp_2_deep\", \"mlp_2_deep (Random Search)\", \"mlp_3_wide\"],\n",
    "    \"hidden_layers\": [\"[128]\", \"[256, 128]\", \"[512, 256]\", \"[512, 256]\"],\n",
    "    \"activation_fn\": [\"ReLU\", \"Tanh\", \"Tanh (fijo)\", \"LeakyReLU\"],\n",
    "    \"learning_rate\": [0.01, 0.001, 0.0005, 0.0005],\n",
    "    \"batch_size\": [64, 128, 64, 32],\n",
    "    \"epochs\": [10, 20, 20, 15],\n",
    "    \"Precisión (%)\": [95.48, 97.88, 97.97, 98.37]\n",
    "}\n",
    "\n",
    "df = pd.DataFrame(data)\n",
    "\n",
    "df\n"
   ]
  },
  {
   "cell_type": "markdown",
   "id": "cea5fb13",
   "metadata": {},
   "source": [
    "Se observa que el modelo de mlp_3_wide con sus parametros  \n"
   ]
  },
  {
   "cell_type": "markdown",
   "id": "a52ccbd4",
   "metadata": {},
   "source": [
    "Como podemos observar, los hiperparámetros que más influyeron en la mejora del rendimiento del modelo fueron principalmente la arquitectura de las capas ocultas, el tipo de función de activación y el learning rate. Al comparar el modelo más simple que fue mlp_1_simple con los modelos más complejos, se observa que aumentar el número de capas y neuronas permite al modelo capturar mejor patrones complejos en los datos. Además, el cambio de activación de ReLU a Tanh y LeakyReLU contribuyó a una representación más rica de la información, especialmente en combinaciones profundas o anchas. Finalmente, una tasa de aprendizaje más baja como 0.0005 en los modelos de mayor precisión permitió una convergencia más estable y precisa, evitando el sobreajuste o saltos abruptos en el descenso del gradiente. Haciendo que el modelo número 3 sea el modelo con precisión. "
   ]
  },
  {
   "cell_type": "markdown",
   "id": "680c434b",
   "metadata": {},
   "source": [
    "## Modelo CCN parametrizable"
   ]
  },
  {
   "cell_type": "markdown",
   "id": "ce8026b2",
   "metadata": {},
   "source": [
    "### Construccion de una CNN para MNIST\n",
    "\n",
    "Objetivo -> clasificar imagenes 28x28 en 10 clases.\n",
    "\n",
    "Requisitos del modelo -> al menos 2 capas Conv2d, al menos 2 capas de pooling, salida de 10 neuronas, perdida CrossEntropyLoss.\n",
    "\n",
    "Tambien haremos experimentos variando:\n",
    "\n",
    "1. numero de filtros por capa convolucional\n",
    "2. tamanos de capas totalmente conectadas\n",
    "3. optimizador (SGD y Adam)"
   ]
  },
  {
   "cell_type": "code",
   "execution_count": 40,
   "id": "67771182",
   "metadata": {},
   "outputs": [],
   "source": [
    "import torch\n",
    "import torch.nn as nn\n",
    "import torch.nn.functional as F\n",
    "from torch.optim import SGD, Adam\n",
    "from dataclasses import dataclass\n",
    "from typing import List, Dict, Any\n",
    "import time\n",
    "import math\n",
    "import pandas as pd\n",
    "import matplotlib.pyplot as plt"
   ]
  },
  {
   "cell_type": "code",
   "execution_count": 41,
   "id": "52b65f34",
   "metadata": {},
   "outputs": [
    {
     "data": {
      "text/plain": [
       "device(type='cpu')"
      ]
     },
     "execution_count": 41,
     "metadata": {},
     "output_type": "execute_result"
    }
   ],
   "source": [
    "def setSeeds(seed: int = 42):\n",
    "    torch.manual_seed(seed)\n",
    "    torch.cuda.manual_seed_all(seed)\n",
    "    import random, numpy as np\n",
    "    random.seed(seed)\n",
    "    np.random.seed(seed)\n",
    "\n",
    "setSeeds(42)\n",
    "\n",
    "device = torch.device(\"cuda\" if torch.cuda.is_available() else \"cpu\")\n",
    "device"
   ]
  },
  {
   "cell_type": "markdown",
   "id": "ad2ab847",
   "metadata": {},
   "source": [
    "\n",
    "### Arquitectura CNN\n",
    "\n",
    "Base:\n",
    "  - Conv2d(c1) -> ReLU -> MaxPool2d\n",
    "  - Conv2d(c2) -> ReLU -> MaxPool2d\n",
    "\n",
    "Flatten:\n",
    "  - Linear(fc...) -> ReLU\n",
    "  - Linear(10)\n",
    "\n",
    "> Notas de forma -> con MaxPool2d(2,2) dos veces, la resolucion pasa 28x28 -> 14x14 -> 7x7.\n",
    ">\n",
    "> Dimension del vector antes de las capas lineales -> c2 \\* 7 \\* 7."
   ]
  },
  {
   "cell_type": "code",
   "execution_count": 42,
   "id": "a2a9722b",
   "metadata": {},
   "outputs": [],
   "source": [
    "class CnnNet(nn.Module):\n",
    "    def __init__(self, convFilters: List[int] = [32, 64], fcUnits: List[int] = [128], dropoutP: float = 0.0):\n",
    "        \"\"\"\n",
    "        convFilters -> lista con el numero de filtros por capa conv. Largo minimo 2.\n",
    "        fcUnits -> lista con el numero de neuronas por capa totalmente conectada.\n",
    "        dropoutP -> probabilidad de dropout en el bloque denso.\n",
    "        \"\"\"\n",
    "        super().__init__()\n",
    "        assert len(convFilters) >= 2, \"Se requieren al menos 2 capas convolucionales\"\n",
    "        \n",
    "        c1, c2 = convFilters[0], convFilters[1]\n",
    "        \n",
    "        # Bloque convolucional 1\n",
    "        self.conv1 = nn.Conv2d(in_channels=1, out_channels=c1, kernel_size=3, stride=1, padding=1)\n",
    "        self.pool1 = nn.MaxPool2d(kernel_size=2, stride=2)\n",
    "        \n",
    "        # Bloque convolucional 2\n",
    "        self.conv2 = nn.Conv2d(in_channels=c1, out_channels=c2, kernel_size=3, stride=1, padding=1)\n",
    "        self.pool2 = nn.MaxPool2d(kernel_size=2, stride=2)\n",
    "        \n",
    "        # Tamano despues de dos poolings -> 7x7\n",
    "        flattened_dim = c2 * 7 * 7\n",
    "        \n",
    "        # Bloque denso parametrizable\n",
    "        layers = []\n",
    "        in_features = flattened_dim\n",
    "        for u in fcUnits:\n",
    "            layers.append(nn.Linear(in_features, u))\n",
    "            layers.append(nn.ReLU())\n",
    "            if dropoutP > 0:\n",
    "                layers.append(nn.Dropout(p=dropoutP))\n",
    "            in_features = u\n",
    "        layers.append(nn.Linear(in_features, 10))\n",
    "        self.classifier = nn.Sequential(*layers)\n",
    "\n",
    "    def forward(self, x):\n",
    "        x = F.relu(self.conv1(x))\n",
    "        x = self.pool1(x)\n",
    "        x = F.relu(self.conv2(x))\n",
    "        x = self.pool2(x)\n",
    "        x = torch.flatten(x, 1)\n",
    "        x = self.classifier(x)\n",
    "        return x\n",
    "\n",
    "def countParameters(model: nn.Module) -> int:\n",
    "    return sum(p.numel() for p in model.parameters() if p.requires_grad)"
   ]
  },
  {
   "cell_type": "markdown",
   "id": "e3cdc5e1",
   "metadata": {},
   "source": [
    "### Entrenamiento y evaluacion\n",
    "\n",
    "- Criterio de perdida -> CrossEntropyLoss.\n",
    "- Metricas -> loss promedio y accuracy.\n",
    "- Entrenamiento epoch a epoch -> modo train con forward, backward, step.\n",
    "- Evaluacion -> modo eval sin gradientes."
   ]
  },
  {
   "cell_type": "code",
   "execution_count": 43,
   "id": "a422fa07",
   "metadata": {},
   "outputs": [],
   "source": [
    "def accuracyFromLogits(logits, targets):\n",
    "    preds = torch.argmax(logits, dim=1)\n",
    "    return (preds == targets).float().mean().item()\n",
    "\n",
    "def trainOneEpoch(model, loader, criterion, optimizer, device):\n",
    "    model.train()\n",
    "    running_loss = 0.0\n",
    "    running_acc = 0.0\n",
    "    n_batches = 0\n",
    "    \n",
    "    for images, labels in loader:\n",
    "        images = images.to(device)\n",
    "        labels = labels.to(device)\n",
    "        \n",
    "        optimizer.zero_grad()\n",
    "        outputs = model(images)                # logits\n",
    "        loss = criterion(outputs, labels)\n",
    "        loss.backward()\n",
    "        optimizer.step()\n",
    "        \n",
    "        running_loss += loss.item()\n",
    "        running_acc += accuracyFromLogits(outputs, labels)\n",
    "        n_batches += 1\n",
    "    \n",
    "    return running_loss / n_batches, running_acc / n_batches\n",
    "\n",
    "@torch.no_grad()\n",
    "def evaluateModel(model, loader, criterion, device):\n",
    "    model.eval()\n",
    "    running_loss = 0.0\n",
    "    running_acc = 0.0\n",
    "    n_batches = 0\n",
    "    \n",
    "    for images, labels in loader:\n",
    "        images = images.to(device)\n",
    "        labels = labels.to(device)\n",
    "        outputs = model(images)\n",
    "        loss = criterion(outputs, labels)\n",
    "        running_loss += loss.item()\n",
    "        running_acc += accuracyFromLogits(outputs, labels)\n",
    "        n_batches += 1\n",
    "    \n",
    "    return running_loss / n_batches, running_acc / n_batches"
   ]
  },
  {
   "cell_type": "markdown",
   "id": "c3fa92f0",
   "metadata": {},
   "source": [
    "Estrategia: entrenar por N epochs, monitorear valLoss y valAcc, guardar el mejor estado segun valAcc. Tambien registramos tiempos y numero de parametros."
   ]
  },
  {
   "cell_type": "code",
   "execution_count": 57,
   "id": "aa02d7e9",
   "metadata": {},
   "outputs": [],
   "source": [
    "@dataclass\n",
    "class TrainConfig:\n",
    "    convFilters: List[int]\n",
    "    fcUnits: List[int]\n",
    "    optimizerName: str\n",
    "    learningRate: float\n",
    "    momentum: float = 0.9\n",
    "    epochs: int = 5\n",
    "    dropoutP: float = 0.0\n",
    "\n",
    "def buildOptimizer(model, name: str, lr: float, momentum: float = 0.9):\n",
    "    name = name.lower()\n",
    "    if name == \"sgd\":\n",
    "        return SGD(model.parameters(), lr=lr, momentum=momentum)\n",
    "    elif name == \"adam\":\n",
    "        return Adam(model.parameters(), lr=lr)\n",
    "    else:\n",
    "        raise ValueError(f\"Optimizador no soportado: {name}\")\n",
    "\n",
    "def trainValidateTest(config: TrainConfig, trainLoader, valLoader, testLoader, device):\n",
    "    model = CnnNet(convFilters=config.convFilters, fcUnits=config.fcUnits, dropoutP=config.dropoutP).to(device)\n",
    "    criterion = nn.CrossEntropyLoss()\n",
    "    optimizer = buildOptimizer(model, config.optimizerName, config.learningRate, config.momentum)\n",
    "    \n",
    "    history = []\n",
    "    best_state = None\n",
    "    best_val_acc = -math.inf\n",
    "    start = time.time()\n",
    "    \n",
    "    for epoch in range(1, config.epochs + 1):\n",
    "        tr_loss, tr_acc = trainOneEpoch(model, trainLoader, criterion, optimizer, device)\n",
    "        val_loss, val_acc = evaluateModel(model, valLoader, criterion, device)\n",
    "        history.append({\"epoch\": epoch, \"trainLoss\": tr_loss, \"trainAcc\": tr_acc, \"valLoss\": val_loss, \"valAcc\": val_acc})\n",
    "        if val_acc > best_val_acc:\n",
    "            best_val_acc = val_acc\n",
    "            best_state = {k: v.cpu().clone() for k, v in model.state_dict().items()}\n",
    "    \n",
    "    train_time = time.time() - start\n",
    "    \n",
    "    if best_state is not None:\n",
    "        model.load_state_dict(best_state)\n",
    "        model.to(device)\n",
    "    \n",
    "    test_loss, test_acc = evaluateModel(model, testLoader, criterion, device)\n",
    "    \n",
    "    result = {\n",
    "        \"params\": countParameters(model),\n",
    "        \"bestValAcc\": best_val_acc,\n",
    "        \"testAcc\": test_acc,\n",
    "        \"testLoss\": test_loss,\n",
    "        \"trainTimeSec\": train_time,\n",
    "        \"history\": history,\n",
    "        \"config\": config\n",
    "    }\n",
    "    return model, result"
   ]
  },
  {
   "cell_type": "markdown",
   "id": "9a69f4d2",
   "metadata": {},
   "source": [
    "Se va a variar:\n",
    "\n",
    "1. filtros convolucionales -> \\[32,64], \\[64,128]\n",
    "2. capas densas -> \\[128], \\[256,128]\n",
    "3. optimizador -> \"sgd\", \"adam\"\n",
    "   \n",
    "   Learning rate por defecto -> 0.01 para SGD, 0.001 para Adam.\n",
    "   \n",
    "   Epochs -> 5 para demostracion rapida. Puedes subir a 10 o 15 si tienes GPU.\n"
   ]
  },
  {
   "cell_type": "code",
   "execution_count": 45,
   "id": "a92f90c5",
   "metadata": {},
   "outputs": [
    {
     "name": "stdout",
     "output_type": "stream",
     "text": [
      "Ejecutando experimento 1: TrainConfig(convFilters=[32, 64], fcUnits=[128], optimizerName='sgd', learningRate=0.01, momentum=0.9, epochs=5, dropoutP=0.0)\n",
      "Ejecutando experimento 2: TrainConfig(convFilters=[32, 64], fcUnits=[256, 128], optimizerName='sgd', learningRate=0.01, momentum=0.9, epochs=5, dropoutP=0.0)\n",
      "Ejecutando experimento 3: TrainConfig(convFilters=[64, 128], fcUnits=[128], optimizerName='adam', learningRate=0.001, momentum=0.9, epochs=5, dropoutP=0.0)\n",
      "Ejecutando experimento 4: TrainConfig(convFilters=[64, 128], fcUnits=[256, 128], optimizerName='adam', learningRate=0.001, momentum=0.9, epochs=5, dropoutP=0.2)\n"
     ]
    }
   ],
   "source": [
    "experiments = [\n",
    "    TrainConfig(convFilters=[32, 64],  fcUnits=[128],      optimizerName=\"sgd\",  learningRate=0.01,  epochs=5, dropoutP=0.0),\n",
    "    TrainConfig(convFilters=[32, 64],  fcUnits=[256, 128], optimizerName=\"sgd\",  learningRate=0.01,  epochs=5, dropoutP=0.0),\n",
    "    TrainConfig(convFilters=[64, 128], fcUnits=[128],      optimizerName=\"adam\", learningRate=0.001, epochs=5, dropoutP=0.0),\n",
    "    TrainConfig(convFilters=[64, 128], fcUnits=[256, 128], optimizerName=\"adam\", learningRate=0.001, epochs=5, dropoutP=0.2),\n",
    "]\n",
    "\n",
    "results = []\n",
    "models = []\n",
    "\n",
    "for i, cfg in enumerate(experiments, 1):\n",
    "    print(f\"Ejecutando experimento {i}: {cfg}\")\n",
    "    model, res = trainValidateTest(cfg, train_loader, val_loader, test_loader, device)\n",
    "    results.append(res)\n",
    "    models.append(model)"
   ]
  },
  {
   "cell_type": "markdown",
   "id": "3402e7db",
   "metadata": {},
   "source": [
    "Tabla con hiperparametros principales, numero de parametros, mejor valAcc y testAcc."
   ]
  },
  {
   "cell_type": "code",
   "execution_count": 50,
   "id": "11af19b9",
   "metadata": {},
   "outputs": [
    {
     "data": {
      "text/html": [
       "<div>\n",
       "<style scoped>\n",
       "    .dataframe tbody tr th:only-of-type {\n",
       "        vertical-align: middle;\n",
       "    }\n",
       "\n",
       "    .dataframe tbody tr th {\n",
       "        vertical-align: top;\n",
       "    }\n",
       "\n",
       "    .dataframe thead th {\n",
       "        text-align: right;\n",
       "    }\n",
       "</style>\n",
       "<table border=\"1\" class=\"dataframe\">\n",
       "  <thead>\n",
       "    <tr style=\"text-align: right;\">\n",
       "      <th></th>\n",
       "      <th>convFilters</th>\n",
       "      <th>fcUnits</th>\n",
       "      <th>optimizer</th>\n",
       "      <th>lr</th>\n",
       "      <th>epochs</th>\n",
       "      <th>dropoutP</th>\n",
       "      <th>params</th>\n",
       "      <th>bestValAcc</th>\n",
       "      <th>testAcc</th>\n",
       "      <th>testLoss</th>\n",
       "      <th>trainTimeSec</th>\n",
       "    </tr>\n",
       "  </thead>\n",
       "  <tbody>\n",
       "    <tr>\n",
       "      <th>0</th>\n",
       "      <td>[64, 128]</td>\n",
       "      <td>[256, 128]</td>\n",
       "      <td>adam</td>\n",
       "      <td>0.001</td>\n",
       "      <td>5</td>\n",
       "      <td>0.2</td>\n",
       "      <td>1714570</td>\n",
       "      <td>99.62</td>\n",
       "      <td>99.20</td>\n",
       "      <td>0.0329</td>\n",
       "      <td>1049.5</td>\n",
       "    </tr>\n",
       "    <tr>\n",
       "      <th>1</th>\n",
       "      <td>[32, 64]</td>\n",
       "      <td>[128]</td>\n",
       "      <td>sgd</td>\n",
       "      <td>0.010</td>\n",
       "      <td>5</td>\n",
       "      <td>0.0</td>\n",
       "      <td>421642</td>\n",
       "      <td>99.82</td>\n",
       "      <td>99.17</td>\n",
       "      <td>0.0254</td>\n",
       "      <td>14120.8</td>\n",
       "    </tr>\n",
       "    <tr>\n",
       "      <th>2</th>\n",
       "      <td>[32, 64]</td>\n",
       "      <td>[256, 128]</td>\n",
       "      <td>sgd</td>\n",
       "      <td>0.010</td>\n",
       "      <td>5</td>\n",
       "      <td>0.0</td>\n",
       "      <td>856074</td>\n",
       "      <td>99.70</td>\n",
       "      <td>99.16</td>\n",
       "      <td>0.0279</td>\n",
       "      <td>608.0</td>\n",
       "    </tr>\n",
       "    <tr>\n",
       "      <th>3</th>\n",
       "      <td>[64, 128]</td>\n",
       "      <td>[128]</td>\n",
       "      <td>adam</td>\n",
       "      <td>0.001</td>\n",
       "      <td>5</td>\n",
       "      <td>0.0</td>\n",
       "      <td>878730</td>\n",
       "      <td>99.57</td>\n",
       "      <td>99.07</td>\n",
       "      <td>0.0296</td>\n",
       "      <td>7823.4</td>\n",
       "    </tr>\n",
       "  </tbody>\n",
       "</table>\n",
       "</div>"
      ],
      "text/plain": [
       "  convFilters     fcUnits optimizer     lr  epochs  dropoutP   params  \\\n",
       "0   [64, 128]  [256, 128]      adam  0.001       5       0.2  1714570   \n",
       "1    [32, 64]       [128]       sgd  0.010       5       0.0   421642   \n",
       "2    [32, 64]  [256, 128]       sgd  0.010       5       0.0   856074   \n",
       "3   [64, 128]       [128]      adam  0.001       5       0.0   878730   \n",
       "\n",
       "   bestValAcc  testAcc  testLoss  trainTimeSec  \n",
       "0       99.62    99.20    0.0329        1049.5  \n",
       "1       99.82    99.17    0.0254       14120.8  \n",
       "2       99.70    99.16    0.0279         608.0  \n",
       "3       99.57    99.07    0.0296        7823.4  "
      ]
     },
     "execution_count": 50,
     "metadata": {},
     "output_type": "execute_result"
    }
   ],
   "source": [
    "def summarizeResults(results: List[Dict[str, Any]]) -> pd.DataFrame:\n",
    "    rows = []\n",
    "    for r in results:\n",
    "        cfg = r[\"config\"]\n",
    "        rows.append({\n",
    "            \"convFilters\": str(cfg.convFilters),\n",
    "            \"fcUnits\": str(cfg.fcUnits),\n",
    "            \"optimizer\": cfg.optimizerName,\n",
    "            \"lr\": cfg.learningRate,\n",
    "            \"epochs\": cfg.epochs,\n",
    "            \"dropoutP\": cfg.dropoutP,\n",
    "            \"params\": r[\"params\"],\n",
    "            \"bestValAcc\": round(r[\"bestValAcc\"] * 100, 2),\n",
    "            \"testAcc\": round(r[\"testAcc\"] * 100, 2),\n",
    "            \"testLoss\": round(r[\"testLoss\"], 4),\n",
    "            \"trainTimeSec\": round(r[\"trainTimeSec\"], 1),\n",
    "        })\n",
    "    df = pd.DataFrame(rows)\n",
    "    df = df.sort_values(by=\"testAcc\", ascending=False).reset_index(drop=True)\n",
    "    return df\n",
    "\n",
    "dfResults = summarizeResults(results)\n",
    "dfResults"
   ]
  },
  {
   "cell_type": "markdown",
   "id": "3b249cfe",
   "metadata": {},
   "source": [
    "Mostramos loss y accuracy por epoch para el mejor experimento segun testAcc."
   ]
  },
  {
   "cell_type": "code",
   "execution_count": 47,
   "id": "f3ced496",
   "metadata": {},
   "outputs": [
    {
     "data": {
      "text/plain": [
       "Text(0.5, 1.0, 'Curva de accuracy')"
      ]
     },
     "execution_count": 47,
     "metadata": {},
     "output_type": "execute_result"
    },
    {
     "data": {
      "image/png": "[encoded data removed]",
      "text/plain": [
       "<Figure size 640x480 with 1 Axes>"
      ]
     },
     "metadata": {},
     "output_type": "display_data"
    },
    {
     "data": {
      "image/png": "[encoded data removed]",
      "text/plain": [
       "<Figure size 640x480 with 1 Axes>"
      ]
     },
     "metadata": {},
     "output_type": "display_data"
    }
   ],
   "source": [
    "best_idx = dfResults.index[0]\n",
    "best_cfg = results[best_idx][\"config\"]\n",
    "best_hist = results[best_idx][\"history\"]\n",
    "\n",
    "epochs = [h[\"epoch\"] for h in best_hist]\n",
    "train_loss = [h[\"trainLoss\"] for h in best_hist]\n",
    "val_loss = [h[\"valLoss\"] for h in best_hist]\n",
    "train_acc = [h[\"trainAcc\"] for h in best_hist]\n",
    "val_acc = [h[\"valAcc\"] for h in best_hist]\n",
    "\n",
    "plt.figure()\n",
    "plt.plot(epochs, train_loss, label=\"trainLoss\")\n",
    "plt.plot(epochs, val_loss, label=\"valLoss\")\n",
    "plt.xlabel(\"epoch\")\n",
    "plt.ylabel(\"loss\")\n",
    "plt.legend()\n",
    "plt.title(\"Curva de perdida\")\n",
    "\n",
    "plt.figure()\n",
    "plt.plot(epochs, train_acc, label=\"trainAcc\")\n",
    "plt.plot(epochs, val_acc, label=\"valAcc\")\n",
    "plt.xlabel(\"epoch\")\n",
    "plt.ylabel(\"accuracy\")\n",
    "plt.legend()\n",
    "plt.title(\"Curva de accuracy\")"
   ]
  },
  {
   "cell_type": "markdown",
   "id": "677caa77",
   "metadata": {},
   "source": [
    "En cinco épocas, todas las configuraciones alcanzaron entre 99.00 y 99.18 de precisión en test, con pérdidas y errores que descienden de forma estable y brechas de generalización por debajo de 1 punto porcentual, lo que indica buen ajuste. Adam con lr=0.001 logró 99.18 de testAcc tanto con fcUnits=\\[128] como con \\[256,128], pero a costa de mayor tiempo de entrenamiento frente a SGD. Incrementar la capacidad del modelo de 0.42 M a 1.71 M de parámetros apenas aportó 0.05 puntos de mejora, mostrando rendimientos decrecientes en MNIST. Las curvas muestran valAcc ligeramente superior a trainAcc y valLoss inferior a trainLoss, consistente con el uso de dropout en entrenamiento y su desactivación en evaluación. En conjunto, el mejor compromiso precisión–tiempo–tamaño se observa en la configuración convFilters=\\[64,128], fcUnits=\\[128], Adam 0.001; si el tiempo es crítico, convFilters=\\[32,64] con SGD y más épocas puede aproximar ese desempeño con menor costo computacional."
   ]
  },
  {
   "cell_type": "markdown",
   "id": "351c18e0",
   "metadata": {},
   "source": [
    "## Mejor modelo del laboratorio anterior"
   ]
  },
  {
   "cell_type": "code",
   "execution_count": 54,
   "id": "0a0ebbaf",
   "metadata": {},
   "outputs": [],
   "source": [
    "def train_and_evaluate(config, train_loader, test_loader):\n",
    "    model = build_mlp(784, config[\"hidden_layers\"], 10, config[\"activation_fn\"])\n",
    "    device = torch.device(\"cuda\" if torch.cuda.is_available() else \"cpu\")\n",
    "    model = model.to(device)\n",
    "\n",
    "    criterion = nn.CrossEntropyLoss()\n",
    "    optimizer = torch.optim.Adam(model.parameters(), lr=config[\"learning_rate\"])\n",
    "\n",
    "    train_losses = []\n",
    "    val_accuracies = []\n",
    "\n",
    "    for epoch in range(config[\"epochs\"]):\n",
    "        model.train()\n",
    "        running_loss = 0.0\n",
    "        for images, labels in train_loader:\n",
    "            images = images.view(images.size(0), -1).to(device)\n",
    "            labels = labels.to(device)\n",
    "\n",
    "            optimizer.zero_grad()\n",
    "            outputs = model(images)\n",
    "            loss = criterion(outputs, labels)\n",
    "            loss.backward()\n",
    "            optimizer.step()\n",
    "\n",
    "            running_loss += loss.item()\n",
    "\n",
    "        avg_loss = running_loss / len(train_loader)\n",
    "        train_losses.append(avg_loss)\n",
    "\n",
    "        # 🔹 Validation\n",
    "        model.eval()\n",
    "        correct, total = 0, 0\n",
    "        with torch.no_grad():\n",
    "            for images, labels in test_loader:\n",
    "                images = images.view(images.size(0), -1).to(device)\n",
    "                labels = labels.to(device)\n",
    "                outputs = model(images)\n",
    "                _, predicted = torch.max(outputs.data, 1)\n",
    "                total += labels.size(0)\n",
    "                correct += (predicted == labels).sum().item()\n",
    "\n",
    "        acc = correct / total\n",
    "        val_accuracies.append(acc)\n",
    "\n",
    "        print(f\"Epoch {epoch+1}/{config['epochs']} - Loss: {avg_loss:.4f}, Val Acc: {acc:.4f}\")\n",
    "\n",
    "    return model, train_losses, val_accuracies\n"
   ]
  },
  {
   "cell_type": "code",
   "execution_count": null,
   "id": "5cc2c2e4",
   "metadata": {},
   "outputs": [
    {
     "data": {
      "image/png": "[encoded data removed]",
      "text/plain": [
       "<Figure size 640x480 with 2 Axes>"
      ]
     },
     "metadata": {},
     "output_type": "display_data"
    },
    {
     "data": {
      "image/png": "[encoded data removed]",
      "text/plain": [
       "<Figure size 640x480 with 2 Axes>"
      ]
     },
     "metadata": {},
     "output_type": "display_data"
    }
   ],
   "source": [
    "from sklearn.metrics import confusion_matrix, ConfusionMatrixDisplay\n",
    "import matplotlib.pyplot as plt\n",
    "\n",
    "def plot_confusion_matrix(model, testLoader, device, name ,classes=None):\n",
    "    model.eval()\n",
    "    all_preds, all_labels = [], []\n",
    "\n",
    "    with torch.no_grad():\n",
    "        for images, labels in testLoader:\n",
    "            images, labels = images.to(device), labels.to(device)\n",
    "            outputs = model(images)\n",
    "            _, predicted = torch.max(outputs, 1)\n",
    "            all_preds.extend(predicted.cpu().numpy())\n",
    "            all_labels.extend(labels.cpu().numpy())\n",
    "\n",
    "    cm = confusion_matrix(all_labels, all_preds)\n",
    "    disp = ConfusionMatrixDisplay(confusion_matrix=cm,\n",
    "                                  display_labels=classes or list(range(10)))\n",
    "    disp.plot(cmap=plt.cm.Blues, xticks_rotation=45)\n",
    "    plt.title(\"Confusion Matrix for \"+ str(name))\n",
    "    plt.show()\n",
    "\n",
    "# 👉 Run this after training\n",
    "plot_confusion_matrix(models[3], train_loader, device, \"modelo CNN\",classes=[str(i) for i in range(10)],)\n",
    "\n",
    "plot_confusion_matrix(models[2], train_loader, device,\"modelo MLP\" ,classes=[str(i) for i in range(10)])\n"
   ]
  },
  {
   "cell_type": "markdown",
   "id": "57657d61",
   "metadata": {},
   "source": [
    "Podemos observar que el mejor modelo del laboratorio anterior que tiene los hiperpárametros mlp_3_wide\t[512, 256]\tLeakyReLU\t0.0005\t32\t15\t98.37\n",
    "contra una CNN, se observa que el CNN es un modelo con mayor precisión al obtener 98.37 de precisión. Por otro lado observamos que el modelo de CNN tiene pocos parámetros a comparación del mejor modelo anterior en la cual tiene mayor parámetros en las cuales puede afectar con el tiempo de ejecución. Esto se puede demostrar debido a que tiene una precisión de 99.2%\n",
    "\n",
    "\n",
    "Para la matriz de confusión del modelo CNN observamos que el mayor número que ha predicho erroneamente es el número 9. Lo cúal tiene sentido en la cual podria equivocarse con el número 4 y el número 8 por la curva el circulo que hay. Por otro lado, observamos que en el modelo de la MLP se puede equivocare con el número 6 y 0 por el circulo de abajo. Por otro lado tambien esta el número 3 donde puede confunirse con el semicirculo que existe abajo. Esto tiene sentido debido a que el modelo cnn tiene mayor precisión lo cual si puede acertar la mayoría de los datos.  "
   ]
  },
  {
   "cell_type": "markdown",
   "id": "afe55ff9",
   "metadata": {},
   "source": [
    "## Referencias\n",
    "\n",
    "- [Datasets PyTorch](https://docs.pytorch.org/vision/stable/datasets.html#mnist)\n",
    "- [MNIST PyTorch](https://docs.pytorch.org/vision/stable/generated/torchvision.datasets.MNIST.html?highlight=mnist#torchvision.datasets.MNIST)\n",
    "- [Transforming PyTorch](https://docs.pytorch.org/vision/stable/transforms.html#)\n",
    "- [DataLoader PyTorch](https://docs.pytorch.org/docs/stable/data.html#)\n",
    "- [Compose PyTorch](https://docs.pytorch.org/vision/stable/generated/torchvision.transforms.v2.Compose.html#torchvision.transforms.v2.Compose)\n",
    "- [Torch.nn PyTorch](https://docs.pytorch.org/docs/stable/nn.html)\n",
    "- [MLP PyTorch](https://docs.pytorch.org/vision/main/generated/torchvision.ops.MLP.html)\n",
    "- [Sequential PyTorch](https://docs.pytorch.org/docs/stable/generated/torch.nn.Sequential.html)\n",
    "- [Torch nn](https://docs.pytorch.org/docs/stable/nn.html)\n",
    "- [Conv2D](https://docs.pytorch.org/docs/stable/generated/torch.nn.Conv2d.html)\n",
    "- [AvgPool2D](https://docs.pytorch.org/docs/stable/generated/torch.nn.AvgPool2d.html)\n",
    "- [Functional AVG Pool2D](https://docs.pytorch.org/docs/stable/generated/torch.nn.functional.avg_pool2d.html)\n",
    "- [MaxPool2D](https://docs.pytorch.org/docs/stable/generated/torch.nn.MaxPool2d.html)\n",
    "- [Functional Max Pool2D](https://docs.pytorch.org/docs/stable/generated/torch.nn.functional.max_pool2d.html)"
   ]
  }
 ],
 "metadata": {
  "kernelspec": {
   "display_name": "venv",
   "language": "python",
   "name": "python3"
  },
  "language_info": {
   "codemirror_mode": {
    "name": "ipython",
    "version": 3
   },
   "file_extension": ".py",
   "mimetype": "text/x-python",
   "name": "python",
   "nbconvert_exporter": "python",
   "pygments_lexer": "ipython3",
   "version": "3.13.2"
  }
 },
 "nbformat": 4,
 "nbformat_minor": 5
}
